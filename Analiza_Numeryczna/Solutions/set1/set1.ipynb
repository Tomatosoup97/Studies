{
 "cells": [
  {
   "cell_type": "markdown",
   "metadata": {
    "collapsed": true
   },
   "source": [
    "## 1. Quadratic equation mistakes"
   ]
  },
  {
   "cell_type": "code",
   "execution_count": 10,
   "metadata": {},
   "outputs": [
    {
     "name": "stdout",
     "output_type": "stream",
     "text": [
      "For a=5e-20, b=10000000000000000000000, c=1.5e-19\n",
      "\n",
      "First solution: -2e+41\n",
      "Second solution: 0.0\n",
      "---------------------- \n",
      "\n",
      "x1 in equation: -3.6537540933272573e+47\n",
      "x2 in equation: 1.5e-19\n",
      "\n",
      "For a=1.0, b=1000000000, c=1.0\n",
      "\n",
      "First solution: -1000000000.0\n",
      "Second solution: 0.0\n",
      "---------------------- \n",
      "\n",
      "For a=1.0, b=1.0, c=1e-10\n",
      "\n",
      "First solution: -0.9999999999\n",
      "Second solution: -1.000000082740371e-10\n",
      "---------------------- \n",
      "\n"
     ]
    },
    {
     "data": {
      "text/plain": [
       "(-0.9999999999, -1.000000082740371e-10)"
      ]
     },
     "execution_count": 10,
     "metadata": {},
     "output_type": "execute_result"
    }
   ],
   "source": [
    "%matplotlib inline\n",
    "\n",
    "import matplotlib.pyplot as plt\n",
    "import numpy as np\n",
    "import math\n",
    "\n",
    "# a, b, c = map(int, input('Pass a, b, c: ').split(' '))\n",
    "\n",
    "def calc_solutions(a, b, c):\n",
    "\n",
    "    delta = b*b - 4*a*c\n",
    "    \n",
    "    if delta < 0:\n",
    "        print(\"delta can't be < 0 !\")\n",
    "    \n",
    "    x1 = (-b - math.sqrt(delta)) / (2*a)\n",
    "    x2 = (-b + math.sqrt(delta)) / (2*a)\n",
    "\n",
    "    print(f'For a={a}, b={b}, c={c}\\n')\n",
    "    print(f'First solution: {x1}')\n",
    "    print(f'Second solution: {x2}')\n",
    "    print('---------------------- \\n')\n",
    "    return x1, x2\n",
    "\n",
    "\n",
    "a = 5e-20\n",
    "b = 10 ** 22\n",
    "c = 15e-20\n",
    "\n",
    "x1, x2 = calc_solutions(a, b, c)\n",
    "\n",
    "print(f'x1 in equation: {a * x1**2 + b * x1 + c}')\n",
    "print(f'x2 in equation: {a * x2**2 + b * x2 + c}\\n')\n",
    "print('---------------------- \\n')\n",
    "\n",
    "\n",
    "calc_solutions(1.0, 10**9, 1.0)\n",
    "\n",
    "calc_solutions(1.0, 1.0, 1e-10)\n"
   ]
  },
  {
   "cell_type": "code",
   "execution_count": null,
   "metadata": {
    "collapsed": true
   },
   "outputs": [],
   "source": [
    "# create 1000 equally spaced points between -n and n\n",
    "n = 10**50\n",
    "x = np.linspace(-n, n, 1000)\n",
    "y = a * x**2 + b*x + c\n",
    "\n",
    "fig, ax = plt.subplots()\n",
    "ax.plot(x, y)\n",
    "ax.grid(True, which='both')\n"
   ]
  },
  {
   "cell_type": "markdown",
   "metadata": {
    "collapsed": true
   },
   "source": [
    "## 2. Sequences"
   ]
  },
  {
   "cell_type": "code",
   "execution_count": 3,
   "metadata": {
    "scrolled": true
   },
   "outputs": [
    {
     "name": "stdout",
     "output_type": "stream",
     "text": [
      "1-th: 0.2000000000000000\n",
      "2-th: 0.0400000000000000\n",
      "3-th: 0.0080000000000002\n",
      "5-th: 0.0003200000000044\n",
      "10-th: 0.0000001024136203\n",
      "15-th: 0.0000000425962755\n",
      "20-th: 0.0001330109609581\n",
      "30-th: 1298.9351655043119536\n",
      "35-th: 4059172.3922009752131999\n"
     ]
    },
    {
     "data": {
      "image/png": "[encoded data removed]",
      "text/plain": [
       "<matplotlib.figure.Figure at 0x7ff438839cc0>"
      ]
     },
     "metadata": {},
     "output_type": "display_data"
    },
    {
     "name": "stdout",
     "output_type": "stream",
     "text": [
      "Took: 0:00:04.868681\n"
     ]
    }
   ],
   "source": [
    "\n",
    "def with_time_measure(func):\n",
    "    def new_func(*args, **kwargs):\n",
    "        from datetime import datetime\n",
    "        prev = datetime.now()\n",
    "        func(*args, **kwargs)\n",
    "        now = datetime.now()\n",
    "        print(f'Took: {now - prev}')\n",
    "    return new_func\n",
    "\n",
    "\n",
    "@with_time_measure\n",
    "def output_results(func, iterable):\n",
    "    results = []\n",
    "    for n in iterable:\n",
    "        res = func(n)\n",
    "        results.append(res)\n",
    "        print(f'{n}-th: {res:.16f}')\n",
    "\n",
    "    plt.plot(list(iterable), results, 'k')\n",
    "    plt.grid(True)\n",
    "    plt.show()\n",
    "    \n",
    "\n",
    "\n",
    "def recSeq(x0, x1):\n",
    "    def _inner(n):\n",
    "        if (n == 0):\n",
    "            return x0\n",
    "        elif (n == 1):\n",
    "            return x1\n",
    "\n",
    "        return 26/5 * _inner(n-1) - _inner(n-2)\n",
    "    return _inner\n",
    "\n",
    "x0 = 1\n",
    "x1 = 1/5\n",
    "\n",
    "seq = recSeq(x0, x1)\n",
    "output_results(seq, [1, 2, 3, 5, 10, 15, 20, 30, 35])\n"
   ]
  },
  {
   "cell_type": "markdown",
   "metadata": {
    "collapsed": true
   },
   "source": [
    "\n",
    "## 3. Series"
   ]
  },
  {
   "cell_type": "code",
   "execution_count": 8,
   "metadata": {
    "scrolled": true
   },
   "outputs": [
    {
     "name": "stdout",
     "output_type": "stream",
     "text": [
      "Pi: 3.141592653589793\n",
      "\n",
      "1-th: 0.2463545583516975\n",
      "2-th: 0.1245208365179753\n",
      "3-th: 0.0831898876624599\n",
      "5-th: 0.0499688469219532\n",
      "10-th: 0.0249960967959599\n",
      "20-th: 0.0124995118140721\n",
      "30-th: 0.0083331886699631\n",
      "50-th: 0.0049999687509770\n",
      "100-th: 0.0024999960937788\n",
      "200-th: 0.0012499995117174\n",
      "500-th: 0.0004999999687518\n",
      "1000-th: 0.0002499999960888\n",
      "10000-th: 0.0000249999999946\n",
      "100000-th: 0.0000025000000492\n"
     ]
    },
    {
     "data": {
      "image/png": "[encoded data removed]",
      "text/plain": [
       "<matplotlib.figure.Figure at 0x7ff436707b38>"
      ]
     },
     "metadata": {},
     "output_type": "display_data"
    },
    {
     "name": "stdout",
     "output_type": "stream",
     "text": [
      "Took: 0:00:00.296142\n",
      "\n",
      "\n",
      "Plot of error rate in range 100 - 1500\n"
     ]
    },
    {
     "data": {
      "image/png": "[encoded data removed]",
      "text/plain": [
       "<matplotlib.figure.Figure at 0x7ff436695eb8>"
      ]
     },
     "metadata": {},
     "output_type": "display_data"
    }
   ],
   "source": [
    "from functools import reduce\n",
    "\n",
    "def pi_series(n):\n",
    "    n = n*4\n",
    "    calc_nth = lambda k: (-1)**k / (2*k + 1)\n",
    "    res = 4 * sum((calc_nth(k) for k in range(n)))\n",
    "    return abs(res - math.pi)\n",
    "\n",
    "\n",
    "print(f'Pi: {math.pi}\\n')\n",
    "\n",
    "expected_k = round((4*10**7 - 3) / 2) + 1\n",
    "\n",
    "desired_error = 10**-7\n",
    "\n",
    "xs = list(map(round, [\n",
    "    1, 2, 3, 5, 10, 20, 30, 50,\n",
    "    100, 200, 500,\n",
    "    10**3, 10**4, 10**5,\n",
    "    expected_k - 10**5*5,\n",
    "    expected_k,\n",
    "    expected_k + 10**5*5,\n",
    "]))\n",
    "\n",
    "output_results(pi_series, xs)\n",
    "\n",
    "print(f'\\nIs error({expected_k - 1000}) < 10**7 ?')\n",
    "print(pi_series(expected_k) <= desired_error)\n",
    "\n",
    "print(f'\\nIs error({expected_k}) < 10**7 ?')\n",
    "print(pi_series(expected_k) <= desired_error)\n",
    "\n",
    "print(f'\\nIs error({expected_k + 1}) < 10**7 ?')\n",
    "print(pi_series(expected_k + 1) <= desired_error)\n",
    "\n",
    "print(f'\\nIs error({expected_k + 2}) < 10**7 ?')\n",
    "print(pi_series(expected_k + 2) <= desired_error)\n",
    "\n",
    "points = range(100, 1500)\n",
    "ys = [pi_series(x) for x in points]\n",
    "\n",
    "print('\\n\\nPlot of error rate in range 100 - 1500')\n",
    "plt.plot(points, ys, 'k')\n",
    "plt.grid(True)\n",
    "plt.show()"
   ]
  },
  {
   "cell_type": "markdown",
   "metadata": {},
   "source": [
    "\n",
    "\n",
    "## 5. Fast logarithm calculation"
   ]
  },
  {
   "cell_type": "code",
   "execution_count": 5,
   "metadata": {
    "scrolled": true
   },
   "outputs": [
    {
     "name": "stdout",
     "output_type": "stream",
     "text": [
      "\n",
      "From library:\n",
      "\n",
      "2-th: 0.6931471805599453\n",
      "3-th: 1.0986122886681098\n",
      "4-th: 1.3862943611198906\n",
      "5-th: 1.6094379124341003\n",
      "7-th: 1.9459101490553132\n",
      "10-th: 2.3025850929940459\n",
      "15-th: 2.7080502011022101\n",
      "20-th: 2.9957322735539909\n",
      "25-th: 3.2188758248682006\n",
      "30-th: 3.4011973816621555\n",
      "40-th: 3.6888794541139363\n",
      "50-th: 3.9120230054281460\n",
      "70-th: 4.2484952420493594\n",
      "80-th: 4.3820266346738812\n",
      "100-th: 4.6051701859880918\n",
      "200-th: 5.2983173665480363\n"
     ]
    },
    {
     "data": {
      "image/png": "[encoded data removed]",
      "text/plain": [
       "<matplotlib.figure.Figure at 0x7ff4387cbe80>"
      ]
     },
     "metadata": {},
     "output_type": "display_data"
    },
    {
     "name": "stdout",
     "output_type": "stream",
     "text": [
      "Took: 0:00:00.119916\n",
      "\n",
      "My version:\n",
      " \n",
      "2-th: 0.6931471805599454\n",
      "3-th: 1.0986122886681098\n",
      "4-th: 1.3862943611198904\n",
      "5-th: 1.6094379125702614\n",
      "7-th: 1.9459101490553135\n",
      "10-th: 2.3025850929940459\n",
      "15-th: 2.7080502011022105\n",
      "20-th: 2.9957322735539913\n",
      "25-th: 3.2188758248682010\n",
      "30-th: 3.4011973816621559\n",
      "40-th: 3.6910247918562731\n",
      "50-th: 3.9120230054281464\n",
      "70-th: 4.2484952420493594\n",
      "80-th: 4.3820266346738821\n",
      "100-th: 4.6051701860416348\n",
      "200-th: 5.2983173665480372\n"
     ]
    },
    {
     "data": {
      "image/png": "[encoded data removed]",
      "text/plain": [
       "<matplotlib.figure.Figure at 0x7ff4366480b8>"
      ]
     },
     "metadata": {},
     "output_type": "display_data"
    },
    {
     "name": "stdout",
     "output_type": "stream",
     "text": [
      "Took: 0:00:00.113401\n"
     ]
    }
   ],
   "source": [
    "ln_builtin = lambda x: math.log(x, math.e)\n",
    "\n",
    "\n",
    "def _calc_ln(x, n):\n",
    "    calc_nth = lambda k: (-1)**(k-1) * (x-1)**k / k\n",
    "    return sum((calc_nth(k) for k in range(1, n)))\n",
    "\n",
    "\n",
    "def ln(n):\n",
    "    def _inner(x):\n",
    "        if x >= 2:\n",
    "            return 1 + ln(n)(x/math.e)\n",
    "        return _calc_ln(x, n)\n",
    "    return _inner\n",
    "\n",
    "\n",
    "xs = [2, 3, 4, 5, 7, 10, 15, 20, 25, 30, 40, 50, 70, 80, 100, 200]\n",
    "\n",
    "print('\\nFrom library:\\n')\n",
    "output_results(ln_builtin, xs)\n",
    "\n",
    "print('\\nMy version:\\n ')\n",
    "output_results(ln(100), xs)\n"
   ]
  },
  {
   "cell_type": "markdown",
   "metadata": {},
   "source": [
    "## 6. Arctg algorithm\n",
    "### Having only arctg (x) where |x| < 1"
   ]
  },
  {
   "cell_type": "code",
   "execution_count": null,
   "metadata": {
    "collapsed": true,
    "scrolled": true
   },
   "outputs": [],
   "source": [
    "arctg = (lambda x: math.atan(x)\n",
    "         if abs(x) <= 1\n",
    "         else np.sign(x) * math.pi/2 - arctg(1/x))\n",
    "\n",
    "output_results(lambda x: math.atan(x) + math.atan(1/x), range(1, 1000))\n",
    "\n",
    "# print('\\nFrom library:\\n')\n",
    "# output_results(math.atan, xs)\n",
    "\n",
    "# print('\\nMy version:\\n ')\n",
    "# output_results(arctg, xs)"
   ]
  },
  {
   "cell_type": "markdown",
   "metadata": {},
   "source": [
    "## 8. Derivative"
   ]
  },
  {
   "cell_type": "code",
   "execution_count": null,
   "metadata": {
    "collapsed": true,
    "scrolled": true
   },
   "outputs": [],
   "source": [
    "derivative1 = lambda f, x, h: (f(x + h) - f(x)) / h\n",
    "\n",
    "derivative2 = lambda f, x, h: (f(x + h) - f(x - h)) / 2*h\n",
    "\n",
    "func = lambda x: math.e ** (2*x)\n",
    "\n",
    "hs = list(map(lambda x: 2**-x, range(25, 26)))\n",
    "\n",
    "x = 0.5\n",
    "\n",
    "\n",
    "def output_derivative(derivative, name):\n",
    "    print(f'\\n\\n{name}: \\n')\n",
    "    results = list(map(lambda h: derivative(func, x, h), hs))\n",
    "\n",
    "    for i, res in enumerate(results):\n",
    "        print(f'{i+1}-th: {res:.16f}')\n",
    "\n",
    "    plt.plot(range(len(hs)), results, 'k')\n",
    "    plt.grid(True)\n",
    "    plt.show()\n",
    "\n",
    "\n",
    "output_derivative(derivative1, 'derivative1')\n",
    "output_derivative(derivative2, 'derivative2')\n"
   ]
  },
  {
   "cell_type": "code",
   "execution_count": null,
   "metadata": {
    "collapsed": true
   },
   "outputs": [],
   "source": []
  }
 ],
 "metadata": {
  "kernelspec": {
   "display_name": "numerki",
   "language": "python",
   "name": "numerki"
  },
  "language_info": {
   "codemirror_mode": {
    "name": "ipython",
    "version": 3
   },
   "file_extension": ".py",
   "mimetype": "text/x-python",
   "name": "python",
   "nbconvert_exporter": "python",
   "pygments_lexer": "ipython3",
   "version": "3.6.2"
  }
 },
 "nbformat": 4,
 "nbformat_minor": 2
}
